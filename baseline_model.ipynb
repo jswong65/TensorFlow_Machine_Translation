{
 "cells": [
  {
   "cell_type": "markdown",
   "metadata": {
    "collapsed": true
   },
   "source": [
    "# Language Translation\n",
    "This is the implementation of baseline model"
   ]
  },
  {
   "cell_type": "code",
   "execution_count": 1,
   "metadata": {
    "collapsed": true
   },
   "outputs": [],
   "source": [
    "import util\n",
    "import numpy as np\n",
    "from sklearn.model_selection import train_test_split"
   ]
  },
  {
   "cell_type": "markdown",
   "metadata": {},
   "source": [
    "### Preprocess all the data and save it\n",
    "Make the characters in each sentence into lower case, and add the `<EOS>` tag in the end of each target senquence to indicate the end of a target sentence. In addition, the text would be converted into the corresponding id (one-hot encoding) and saved for the further process."
   ]
  },
  {
   "cell_type": "code",
   "execution_count": 2,
   "metadata": {
    "collapsed": true
   },
   "outputs": [],
   "source": [
    "source_path = 'data/small_vocab_en'\n",
    "target_path = 'data/small_vocab_fr'\n",
    "\n",
    "util.preprocess_and_save_data(source_path, target_path)"
   ]
  },
  {
   "cell_type": "markdown",
   "metadata": {},
   "source": [
    "### Check the Version of TensorFlow and Access to GPU\n",
    "This will check to make sure you have the correct version of TensorFlow and access to a GPU"
   ]
  },
  {
   "cell_type": "code",
   "execution_count": 3,
   "metadata": {},
   "outputs": [
    {
     "name": "stdout",
     "output_type": "stream",
     "text": [
      "TensorFlow Version: 1.3.0\n",
      "Default GPU Device: /gpu:0\n"
     ]
    }
   ],
   "source": [
    "from distutils.version import LooseVersion\n",
    "import warnings\n",
    "import tensorflow as tf\n",
    "from tensorflow.python.layers.core import Dense\n",
    "\n",
    "# Check TensorFlow Version\n",
    "assert LooseVersion(tf.__version__) >= LooseVersion('1.1'), 'Please use TensorFlow version 1.1 or newer'\n",
    "print('TensorFlow Version: {}'.format(tf.__version__))\n",
    "\n",
    "# Check for a GPU\n",
    "if not tf.test.gpu_device_name():\n",
    "    warnings.warn('No GPU found. Please use a GPU to train your neural network.')\n",
    "else:\n",
    "    print('Default GPU Device: {}'.format(tf.test.gpu_device_name()))"
   ]
  },
  {
   "cell_type": "markdown",
   "metadata": {},
   "source": [
    "## Build the Neural Network\n",
    "You'll build the components necessary to build a Sequence-to-Sequence model by implementing the following functions below:\n",
    "- `model_inputs`\n",
    "- `process_decoder_input`\n",
    "- `encoding_layer`\n",
    "- `decoding_layer_train`\n",
    "- `decoding_layer_infer`\n",
    "- `decoding_layer`\n",
    "- `seq2seq_model`\n",
    "\n",
    "### Input\n",
    "Implement the `model_inputs()` function to create TF Placeholders for the Neural Network. It should create the following placeholders:\n",
    "\n",
    "- Input text placeholder named \"input\" using the TF Placeholder name parameter with rank 2.\n",
    "- Targets placeholder with rank 2.\n",
    "- Learning rate placeholder with rank 0.\n",
    "- Keep probability placeholder named \"keep_prob\" using the TF Placeholder name parameter with rank 0.\n",
    "- Target sequence length placeholder named \"target_sequence_length\" with rank 1\n",
    "- Max target sequence length tensor named \"max_target_len\" getting its value from applying tf.reduce_max on the target_sequence_length placeholder. Rank 0.\n",
    "- Source sequence length placeholder named \"source_sequence_length\" with rank 1\n",
    "\n",
    "Return the placeholders in the following the tuple (input, targets, learning rate, keep probability, target sequence length, max target sequence length, source sequence length)"
   ]
  },
  {
   "cell_type": "code",
   "execution_count": 4,
   "metadata": {
    "collapsed": true
   },
   "outputs": [],
   "source": [
    "def model_inputs():\n",
    "    \"\"\"\n",
    "    Create TF Placeholders for input, targets, learning rate, and lengths of source and target sequences.\n",
    "    :return: Tuple (input, targets, learning rate, keep probability, target sequence length,\n",
    "    max target sequence length, source sequence length)\n",
    "    \"\"\"\n",
    "\n",
    "    # placeholder for input sequence data\n",
    "    inputs = tf.placeholder(tf.int32, shape=[None, None], name=\"input\")\n",
    "    # placeholder for target sequence data\n",
    "    targets = tf.placeholder(tf.int32, shape=[None, None], name=\"target\")\n",
    "    # placeholder for the learning rate of optimization process\n",
    "    learning_rate = tf.placeholder(tf.float32, shape=[], name=\"learning_rate\")\n",
    "    # placeholder for the keep probability of dropout\n",
    "    keep_prob = tf.placeholder(tf.float32, shape=[], name=\"keep_prob\")\n",
    "    # placeholder for lenght of the current target sequences\n",
    "    target_sequence_length = tf.placeholder(tf.int32, shape=(None,), name=\"target_sequence_length\")\n",
    "    # the maximum length of the current target sequences\n",
    "    max_target_len = tf.reduce_max(target_sequence_length, name='max_target_len')   \n",
    "    # placeholder for lenght of the current target sequences\n",
    "    source_sequence_length = tf.placeholder(tf.int32, shape=(None,), name=\"source_sequence_length\")\n",
    "    # a variable for global step\n",
    "    global_step = tf.Variable(0, name='global_step', trainable=False)\n",
    "    \n",
    "    return inputs, targets, learning_rate, keep_prob, target_sequence_length, max_target_len, source_sequence_length, global_step\n"
   ]
  },
  {
   "cell_type": "markdown",
   "metadata": {},
   "source": [
    "### Process Decoder Input\n",
    "Implement `process_decoder_input` by removing the last word id from each batch in `target_data` and concat the GO ID to the begining of each batch."
   ]
  },
  {
   "cell_type": "code",
   "execution_count": 5,
   "metadata": {
    "collapsed": true
   },
   "outputs": [],
   "source": [
    "def process_decoder_input(target_data, target_vocab_to_int, batch_size):\n",
    "    \"\"\"\n",
    "    Preprocess target data for encoding\n",
    "    return: Preprocessed target data\n",
    "    \"\"\"\n",
    "    ending = tf.strided_slice(target_data, [0, 0], [batch_size, -1], [1, 1])\n",
    "    dec_input = tf.concat([tf.fill([batch_size, 1], target_vocab_to_int['<GO>']), ending], 1)\n",
    "        \n",
    "    return dec_input"
   ]
  },
  {
   "cell_type": "markdown",
   "metadata": {},
   "source": [
    "### Encoding\n",
    "Implement `encoding_layer()` to create a Encoder RNN layer:"
   ]
  },
  {
   "cell_type": "code",
   "execution_count": 6,
   "metadata": {
    "collapsed": true,
    "scrolled": false
   },
   "outputs": [],
   "source": [
    "def encoding_layer(rnn_inputs, rnn_size, num_layers, keep_prob, \n",
    "                   source_sequence_length, source_vocab_size, \n",
    "                   encoding_embedding_size):\n",
    "    \"\"\"\n",
    "    Create encoding layer using lstm cell\n",
    "    \"\"\"\n",
    "    \n",
    "    # create the input sequence embedding \n",
    "    embed_inputs = tf.contrib.layers.embed_sequence(rnn_inputs, \n",
    "                                                   vocab_size=source_vocab_size, \n",
    "                                                   embed_dim=encoding_embedding_size)\n",
    "    \n",
    "    # build lstm cell with dropout\n",
    "    def build_lstm(num_units, keep_prob):\n",
    "        lstm_cell = tf.contrib.rnn.LSTMCell(num_units, \n",
    "                                            initializer=tf.random_uniform_initializer(-0.1, 0.1, seed=2))\n",
    "        \n",
    "        dropout = tf.contrib.rnn.DropoutWrapper(lstm_cell, \n",
    "                                                output_keep_prob=keep_prob)\n",
    "        \n",
    "        return dropout\n",
    "    \n",
    "    # build a multilayer RNN cell\n",
    "    stacked_lstm = tf.contrib.rnn.MultiRNNCell(\n",
    "                    [build_lstm(rnn_size, keep_prob) for _ in range(num_layers)])\n",
    "    \n",
    "    # build a multilayer RNN\n",
    "    outputs, final_state = tf.nn.dynamic_rnn(stacked_lstm, \n",
    "                                             embed_inputs, \n",
    "                                             sequence_length=source_sequence_length, \n",
    "                                             dtype=tf.float32)\n",
    "    \n",
    "    return outputs, final_state\n",
    "\n"
   ]
  },
  {
   "cell_type": "markdown",
   "metadata": {},
   "source": [
    "### Decoding - Training\n",
    "Create a training decoding layer:"
   ]
  },
  {
   "cell_type": "code",
   "execution_count": 7,
   "metadata": {
    "collapsed": true
   },
   "outputs": [],
   "source": [
    "\n",
    "def decoding_layer_train(encoder_state, dec_cell, dec_embed_input, \n",
    "                         target_sequence_length, max_summary_length, \n",
    "                         output_layer, keep_prob):\n",
    "    \"\"\"\n",
    "    Create a decoding layer for training\n",
    "    \"\"\"\n",
    "    \n",
    "    helper = tf.contrib.seq2seq.TrainingHelper(inputs=dec_embed_input, \n",
    "                                               sequence_length=target_sequence_length)\n",
    "    \n",
    "    decoder = tf.contrib.seq2seq.BasicDecoder(cell=dec_cell, \n",
    "                                              helper=helper, \n",
    "                                              initial_state=encoder_state,\n",
    "                                              output_layer=output_layer)\n",
    "    \n",
    "    outputs, _, _ = tf.contrib.seq2seq.dynamic_decode(decoder, \n",
    "                                                      impute_finished=True,\n",
    "                                                      maximum_iterations=max_summary_length)\n",
    "    \n",
    "    return outputs\n",
    "\n"
   ]
  },
  {
   "cell_type": "markdown",
   "metadata": {},
   "source": [
    "### Decoding - Inference\n",
    "Create inference decoder:"
   ]
  },
  {
   "cell_type": "code",
   "execution_count": 8,
   "metadata": {
    "collapsed": true,
    "scrolled": true
   },
   "outputs": [],
   "source": [
    "def decoding_layer_infer(encoder_state, dec_cell, dec_embeddings, start_of_sequence_id,\n",
    "                         end_of_sequence_id, max_target_sequence_length,\n",
    "                         vocab_size, output_layer, batch_size, keep_prob):\n",
    "    \"\"\"\n",
    "    Create a decoding layer for inference\n",
    "    \"\"\"\n",
    "\n",
    "    helper = tf.contrib.seq2seq.GreedyEmbeddingHelper(embedding=dec_embeddings, \n",
    "                                             start_tokens=tf.fill([batch_size], start_of_sequence_id), \n",
    "                                             end_token=end_of_sequence_id)\n",
    "    \n",
    "    decoder = tf.contrib.seq2seq.BasicDecoder(cell=dec_cell, \n",
    "                                              helper=helper, \n",
    "                                              initial_state=encoder_state,\n",
    "                                              output_layer=output_layer)\n",
    "    \n",
    "    outputs, _, _ = tf.contrib.seq2seq.dynamic_decode(decoder, \n",
    "                                                impute_finished=True, \n",
    "                                                maximum_iterations=max_target_sequence_length)\n",
    "    return outputs"
   ]
  },
  {
   "cell_type": "markdown",
   "metadata": {},
   "source": [
    "### Build the Decoding Layer\n",
    "Implement `decoding_layer()` to create a Decoder RNN layer.\n",
    "\n",
    "* Embed the target sequences\n",
    "* Construct the decoder LSTM cell (just like you constructed the encoder cell above)\n",
    "* Create an output layer to map the outputs of the decoder to the elements of our vocabulary\n",
    "* Use the your `decoding_layer_train(encoder_state, dec_cell, dec_embed_input, target_sequence_length, max_target_sequence_length, output_layer, keep_prob)` function to get the training logits.\n",
    "* Use your `decoding_layer_infer(encoder_state, dec_cell, dec_embeddings, start_of_sequence_id, end_of_sequence_id, max_target_sequence_length, vocab_size, output_layer, batch_size, keep_prob)` function to get the inference logits.\n",
    "\n",
    "Note: You'll need to use [tf.variable_scope](https://www.tensorflow.org/api_docs/python/tf/variable_scope) to share variables between training and inference."
   ]
  },
  {
   "cell_type": "code",
   "execution_count": 9,
   "metadata": {
    "collapsed": true
   },
   "outputs": [],
   "source": [
    "def decoding_layer(dec_input, encoder_state,\n",
    "                   target_sequence_length, max_target_sequence_length,\n",
    "                   rnn_size,\n",
    "                   num_layers, target_vocab_to_int, target_vocab_size,\n",
    "                   batch_size, keep_prob, decoding_embedding_size):\n",
    "    \"\"\"\n",
    "    Create decoding layer\n",
    "    :return: Tuple of (Training BasicDecoderOutput, Inference BasicDecoderOutput)\n",
    "    \"\"\"\n",
    "    dec_embeddings = tf.Variable(tf.random_uniform([target_vocab_size, decoding_embedding_size], \n",
    "                                                   minval=-1, \n",
    "                                                   maxval=1))\n",
    "    \n",
    "    dec_embed_inputs = tf.nn.embedding_lookup(dec_embeddings, dec_input)\n",
    "\n",
    "    \n",
    "    \n",
    "    def build_lstm(num_units, keep_prob):\n",
    "        lstm_cell = tf.contrib.rnn.LSTMCell(num_units, \n",
    "                                            initializer=tf.random_uniform_initializer(-0.1, 0.1, seed=2))\n",
    "        \n",
    "        dropout = tf.contrib.rnn.DropoutWrapper(lstm_cell, \n",
    "                                                output_keep_prob=keep_prob)\n",
    "        \n",
    "        return dropout\n",
    "    \n",
    "    stacked_lstm = tf.contrib.rnn.MultiRNNCell(\n",
    "                    [build_lstm(rnn_size, keep_prob) for _ in range(num_layers)])\n",
    "    \n",
    "    output_layer = Dense(target_vocab_size, \n",
    "                         kernel_initializer = tf.truncated_normal_initializer(mean = 0.0, stddev=0.1),\n",
    "                         use_bias=False)\n",
    "\n",
    "    with tf.variable_scope(\"decoder\"):\n",
    "        train_outputs = decoding_layer_train(encoder_state, stacked_lstm, dec_embed_inputs, \n",
    "                                             target_sequence_length, max_target_sequence_length, \n",
    "                                             output_layer, keep_prob)\n",
    "    \n",
    "    \n",
    "    with tf.variable_scope(\"decode\", reuse=True):\n",
    "        infer_outputs = decoding_layer_infer(encoder_state, stacked_lstm, dec_embeddings, target_vocab_to_int['<GO>'],\n",
    "                                             target_vocab_to_int['<EOS>'], max_target_sequence_length,\n",
    "                                             target_vocab_size, output_layer, batch_size, keep_prob)\n",
    "    \n",
    "    return train_outputs, infer_outputs"
   ]
  },
  {
   "cell_type": "markdown",
   "metadata": {},
   "source": [
    "### Build the Neural Network\n",
    "Apply the functions you implemented above to:\n",
    "\n",
    "- Encode the input using your `encoding_layer(rnn_inputs, rnn_size, num_layers, keep_prob,  source_sequence_length, source_vocab_size, encoding_embedding_size)`.\n",
    "- Process target data using your `process_decoder_input(target_data, target_vocab_to_int, batch_size)` function.\n",
    "- Decode the encoded input using your `decoding_layer(dec_input, enc_state, target_sequence_length, max_target_sentence_length, rnn_size, num_layers, target_vocab_to_int, target_vocab_size, batch_size, keep_prob, dec_embedding_size)` function."
   ]
  },
  {
   "cell_type": "code",
   "execution_count": 10,
   "metadata": {
    "collapsed": true
   },
   "outputs": [],
   "source": [
    "def seq2seq_model(input_data, target_data, keep_prob, batch_size,\n",
    "                  source_sequence_length, target_sequence_length,\n",
    "                  max_target_sentence_length,\n",
    "                  source_vocab_size, target_vocab_size,\n",
    "                  enc_embedding_size, dec_embedding_size,\n",
    "                  rnn_size, num_layers, target_vocab_to_int):\n",
    "    \"\"\"\n",
    "    Build the Sequence-to-Sequence part of the neural network\n",
    "    :return: Tuple of (Training BasicDecoderOutput, Inference BasicDecoderOutput)\n",
    "    \"\"\"\n",
    "    _, encoder_state = encoding_layer(input_data, rnn_size, num_layers, keep_prob, \n",
    "                                       source_sequence_length, source_vocab_size, \n",
    "                                       enc_embedding_size)\n",
    "\n",
    "    dec_input = process_decoder_input(target_data, target_vocab_to_int, batch_size)\n",
    "    \n",
    "    train_outputs, infer_outputs = decoding_layer(dec_input, encoder_state,\n",
    "                                                   target_sequence_length, max_target_sentence_length,\n",
    "                                                   rnn_size,\n",
    "                                                   num_layers, target_vocab_to_int, target_vocab_size,\n",
    "                                                   batch_size, keep_prob, dec_embedding_size)\n",
    "    \n",
    "    return train_outputs, infer_outputs"
   ]
  },
  {
   "cell_type": "markdown",
   "metadata": {},
   "source": [
    "## Neural Network Training\n",
    "### Hyperparameters\n",
    "Tune the following parameters:\n",
    "\n",
    "- Set `epochs` to the number of epochs.\n",
    "- Set `batch_size` to the batch size.\n",
    "- Set `rnn_size` to the size of the RNNs.\n",
    "- Set `num_layers` to the number of layers.\n",
    "- Set `encoding_embedding_size` to the size of the embedding for the encoder.\n",
    "- Set `decoding_embedding_size` to the size of the embedding for the decoder.\n",
    "- Set `learning_rate` to the learning rate.\n",
    "- Set `keep_probability` to the Dropout keep probability\n",
    "- Set `display_step` to state how many steps between each debug output statement"
   ]
  },
  {
   "cell_type": "code",
   "execution_count": 11,
   "metadata": {
    "collapsed": true
   },
   "outputs": [],
   "source": [
    "# Number of Epochs\n",
    "epochs = 10\n",
    "# Batch Size\n",
    "batch_size = 128\n",
    "# RNN Size\n",
    "rnn_size = 64\n",
    "# Number of Layers\n",
    "num_layers = 2\n",
    "# Embedding Size\n",
    "encoding_embedding_size = 64\n",
    "decoding_embedding_size = 64\n",
    "# Learning Rate\n",
    "learning_rate = 0.001\n",
    "# Dropout Keep Probability\n",
    "keep_probability = 0.8\n",
    "display_step = 1000"
   ]
  },
  {
   "cell_type": "markdown",
   "metadata": {},
   "source": [
    "### Build the Graph\n",
    "Build the graph using the neural network you implemented."
   ]
  },
  {
   "cell_type": "code",
   "execution_count": 12,
   "metadata": {
    "collapsed": true
   },
   "outputs": [],
   "source": [
    "save_path = 'checkpoints/dev'\n",
    "(source_int_text, target_int_text), (source_vocab_to_int, target_vocab_to_int), _ = util.load_preprocess()\n",
    "max_target_sentence_length = max([len(sentence) for sentence in target_int_text])\n",
    "\n",
    "train_graph = tf.Graph()\n",
    "with train_graph.as_default():\n",
    "    input_data, targets, lr, keep_prob, target_sequence_length, max_target_sequence_length, source_sequence_length, global_step = model_inputs()\n",
    "\n",
    "    input_shape = tf.shape(input_data)\n",
    "\n",
    "    train_logits, inference_logits = seq2seq_model(tf.reverse(input_data, [-1]),\n",
    "                                                   targets,\n",
    "                                                   keep_prob,\n",
    "                                                   batch_size,\n",
    "                                                   source_sequence_length,\n",
    "                                                   target_sequence_length,\n",
    "                                                   max_target_sequence_length,\n",
    "                                                   len(source_vocab_to_int),\n",
    "                                                   len(target_vocab_to_int),\n",
    "                                                   encoding_embedding_size,\n",
    "                                                   decoding_embedding_size,\n",
    "                                                   rnn_size,\n",
    "                                                   num_layers,\n",
    "                                                   target_vocab_to_int)\n",
    "\n",
    "    # make a copy of train_logits\n",
    "    training_logits = tf.identity(train_logits.rnn_output, name='logits')\n",
    "    # make a copy of inference_logits\n",
    "    inference_logits = tf.identity(inference_logits.sample_id, name='predictions')\n",
    "\n",
    "    # masks are created to facilitate the calculation of the loss.\n",
    "    # We don't want to calculate the loss for the padding in a sentence.\n",
    "    masks = tf.sequence_mask(target_sequence_length, max_target_sequence_length, dtype=tf.float32, name='masks')\n",
    "\n",
    "    with tf.name_scope(\"optimization\"):\n",
    "        # Loss function\n",
    "        cost = tf.contrib.seq2seq.sequence_loss(\n",
    "            training_logits,\n",
    "            targets,\n",
    "            masks)\n",
    "\n",
    "        # Optimizer\n",
    "        optimizer = tf.train.AdamOptimizer(lr)\n",
    "\n",
    "        # Gradient Clipping is applied to mitigate the issue of exploding gradients\n",
    "        gradients = optimizer.compute_gradients(cost)\n",
    "        capped_gradients = [(tf.clip_by_value(grad, -1., 1.), var) for grad, var in gradients if grad is not None]\n",
    "        train_op = optimizer.apply_gradients(capped_gradients, global_step=global_step)\n"
   ]
  },
  {
   "cell_type": "markdown",
   "metadata": {},
   "source": [
    "### Split the data into training, validation, and test data."
   ]
  },
  {
   "cell_type": "code",
   "execution_count": 13,
   "metadata": {},
   "outputs": [
    {
     "name": "stdout",
     "output_type": "stream",
     "text": [
      "The size for test data 1379,1379\n"
     ]
    }
   ],
   "source": [
    "# split original data into training and test data \n",
    "source_train, source_test, target_train, target_test = train_test_split(source_int_text, \n",
    "                                                                        target_int_text, test_size=0.01, random_state=42)\n",
    "\n",
    "print(\"The size for test data {},{}\".format(len(source_test), len(target_test)))"
   ]
  },
  {
   "cell_type": "markdown",
   "metadata": {},
   "source": [
    "Batch and pad the source and target sequences"
   ]
  },
  {
   "cell_type": "code",
   "execution_count": 14,
   "metadata": {},
   "outputs": [
    {
     "name": "stdout",
     "output_type": "stream",
     "text": [
      "The size for training data 136354,136354\n",
      "The size for vallidation data 128,128\n"
     ]
    }
   ],
   "source": [
    "# Split data to training and validation sets\n",
    "train_source = source_train[batch_size:]\n",
    "train_target = target_train[batch_size:]\n",
    "valid_source = source_train[:batch_size]\n",
    "valid_target = target_train[:batch_size]\n",
    "(valid_sources_batch, valid_targets_batch, valid_sources_lengths, valid_targets_lengths ) = next(util.get_batches(valid_source,\n",
    "                                                                                                             valid_target,\n",
    "                                                                                                             batch_size,\n",
    "                                                                                                             source_vocab_to_int['<PAD>'],\n",
    "                                                                                                             target_vocab_to_int['<PAD>']))\n",
    "\n",
    "print(\"The size for training data {},{}\".format(len(train_source), len(train_target)))\n",
    "print(\"The size for vallidation data {},{}\".format(len(valid_source), len(valid_target)))"
   ]
  },
  {
   "cell_type": "markdown",
   "metadata": {},
   "source": [
    "### Train\n",
    "Train the neural network on the preprocessed data. If you have a hard time getting a good loss, check the forms to see if anyone is having the same problem."
   ]
  },
  {
   "cell_type": "code",
   "execution_count": 15,
   "metadata": {
    "collapsed": true
   },
   "outputs": [],
   "source": [
    "loss_list = []\n",
    "train_acc_list = []\n",
    "valid_acc_list = []\n",
    "count = 0"
   ]
  },
  {
   "cell_type": "code",
   "execution_count": 16,
   "metadata": {
    "scrolled": true
   },
   "outputs": [
    {
     "name": "stdout",
     "output_type": "stream",
     "text": [
      "Epoch   0 Batch 1000/1077 - Loss: 0.8160\n",
      "Epoch   1 Batch 1000/1077 - Loss: 0.5620\n",
      "Epoch   2 Batch 1000/1077 - Loss: 0.4408\n",
      "Epoch   3 Batch 1000/1077 - Loss: 0.3253\n",
      "Epoch   4 Batch 1000/1077 - Loss: 0.2479\n",
      "Epoch   5 Batch 1000/1077 - Loss: 0.1898\n",
      "Epoch   6 Batch 1000/1077 - Loss: 0.1620\n",
      "Epoch   7 Batch 1000/1077 - Loss: 0.1223\n",
      "Epoch   8 Batch 1000/1077 - Loss: 0.0955\n",
      "Epoch   9 Batch 1000/1077 - Loss: 0.0808\n",
      "Model Trained and Saved\n"
     ]
    }
   ],
   "source": [
    "                                                                                             \n",
    "with tf.Session(graph=train_graph) as sess:\n",
    "    sess.run(tf.global_variables_initializer())\n",
    "\n",
    "    for epoch_i in range(epochs):\n",
    "        for batch_i, (source_batch, target_batch, sources_lengths, targets_lengths) in enumerate(\n",
    "                util.get_batches(train_source, train_target, batch_size,\n",
    "                                source_vocab_to_int['<PAD>'],\n",
    "                                target_vocab_to_int['<PAD>'])):\n",
    "            count += 1 \n",
    "            _, loss = sess.run(\n",
    "                [train_op, cost],\n",
    "                {input_data: source_batch,\n",
    "                 targets: target_batch,\n",
    "                 lr: learning_rate,\n",
    "                 target_sequence_length: targets_lengths,\n",
    "                 source_sequence_length: sources_lengths,\n",
    "                 keep_prob: keep_probability})\n",
    "            \n",
    "            loss_list.append((count, loss))\n",
    "\n",
    "            if batch_i % display_step == 0 and batch_i > 0:\n",
    "\n",
    "                print('Epoch {:>3} Batch {:>4}/{} - Loss: {:>6.4f}'\n",
    "                      .format(epoch_i, batch_i, len(source_int_text) // batch_size,  loss))\n",
    "\n",
    "    # Save Model\n",
    "    saver = tf.train.Saver()\n",
    "    saver.save(sess, save_path)\n",
    "    print('Model Trained and Saved')"
   ]
  },
  {
   "cell_type": "code",
   "execution_count": 17,
   "metadata": {
    "collapsed": true
   },
   "outputs": [],
   "source": [
    "import matplotlib.pyplot as plt\n",
    "%matplotlib inline "
   ]
  },
  {
   "cell_type": "markdown",
   "metadata": {},
   "source": [
    "#### Display the training loss "
   ]
  },
  {
   "cell_type": "code",
   "execution_count": 18,
   "metadata": {},
   "outputs": [
    {
     "data": {
      "image/png": "[encoded data removed]",
      "text/plain": [
       "<matplotlib.figure.Figure at 0x21d11eedb38>"
      ]
     },
     "metadata": {},
     "output_type": "display_data"
    }
   ],
   "source": [
    "plt.plot(*zip(*loss_list), label=\"Train Loss\")\n",
    "plt.legend(loc='upper left')\n",
    "plt.show()"
   ]
  },
  {
   "cell_type": "markdown",
   "metadata": {},
   "source": [
    "### Save Parameters\n",
    "Save the `batch_size` and `save_path` parameters for inference."
   ]
  },
  {
   "cell_type": "code",
   "execution_count": 19,
   "metadata": {
    "collapsed": true
   },
   "outputs": [],
   "source": [
    "# Save parameters for checkpoint\n",
    "util.save_params(save_path)"
   ]
  },
  {
   "cell_type": "markdown",
   "metadata": {},
   "source": [
    "# Checkpoint"
   ]
  },
  {
   "cell_type": "code",
   "execution_count": 20,
   "metadata": {
    "collapsed": true
   },
   "outputs": [],
   "source": [
    "import tensorflow as tf\n",
    "import numpy as np\n",
    "import util\n",
    "\n",
    "_, (source_vocab_to_int, target_vocab_to_int), (source_int_to_vocab, target_int_to_vocab) = util.load_preprocess()\n",
    "load_path = util.load_params()"
   ]
  },
  {
   "cell_type": "markdown",
   "metadata": {},
   "source": [
    "## Test the trained model\n",
    "Finally, the trained neural machine translation model is evaluated using the test data."
   ]
  },
  {
   "cell_type": "code",
   "execution_count": 21,
   "metadata": {
    "collapsed": true
   },
   "outputs": [],
   "source": [
    "test_acc_list = []"
   ]
  },
  {
   "cell_type": "code",
   "execution_count": 22,
   "metadata": {},
   "outputs": [
    {
     "name": "stdout",
     "output_type": "stream",
     "text": [
      "INFO:tensorflow:Restoring parameters from checkpoints/dev\n",
      "Input\n",
      "  Word Ids:      [127, 116, 218, 174, 59, 20, 99, 154, 23, 116, 218, 187, 223, 221, 216, 0, 0]\n",
      "  English Words: california is sometimes dry during may , and it is sometimes wonderful in february .\n",
      "\n",
      "Prediction\n",
      "  Word Ids:      [78, 328, 253, 121, 173, 161, 141, 128, 315, 157, 14, 328, 253, 219, 38, 210, 170]\n",
      "  French Words: californie est parfois sec au mois de mai , et il est parfois merveilleux en février .\n",
      "\n",
      "Target\n",
      "  Word Ids:      [78, 328, 253, 121, 173, 161, 141, 128, 315, 157, 14, 328, 253, 219, 38, 210, 170, 1, 0, 0, 0]\n",
      "  French Words: californie est parfois sec au mois de mai , et il est parfois merveilleux en février .\n",
      "\n",
      "------------------------------------------------------------------\n",
      "\n",
      "Input\n",
      "  Word Ids:      [14, 116, 218, 184, 59, 183, 99, 154, 23, 116, 173, 181, 223, 103, 216, 0, 0]\n",
      "  English Words: paris is sometimes beautiful during summer , and it is usually snowy in fall .\n",
      "\n",
      "Prediction\n",
      "  Word Ids:      [10, 328, 253, 40, 108, 300, 288, 315, 157, 14, 328, 232, 30, 265, 300, 12, 170]\n",
      "  French Words: paris est parfois belle pendant l' été , et il est généralement enneigée à l' automne .\n",
      "\n",
      "Target\n",
      "  Word Ids:      [10, 328, 253, 40, 108, 300, 288, 315, 157, 14, 328, 232, 30, 265, 300, 12, 170, 1, 0, 0]\n",
      "  French Words: paris est parfois belle pendant l' été , et il est généralement enneigée à l' automne .\n",
      "\n",
      "------------------------------------------------------------------\n",
      "\n",
      "Input\n",
      "  Word Ids:      [225, 194, 82, 33, 116, 63, 158, 99, 219, 80, 194, 82, 116, 63, 74, 216, 0]\n",
      "  English Words: your least liked fruit is the pear , but their least liked is the banana .\n",
      "\n",
      "Prediction\n",
      "  Word Ids:      [295, 301, 305, 23, 328, 113, 189, 315, 142, 139, 301, 305, 328, 113, 249, 170, 1]\n",
      "  French Words: votre moins aimé fruit est la poire , mais leur moins aimé est la banane .\n",
      "\n",
      "Target\n",
      "  Word Ids:      [295, 301, 305, 23, 328, 113, 189, 315, 142, 139, 301, 305, 328, 113, 249, 170, 1, 0, 0, 0]\n",
      "  French Words: votre moins aimé fruit est la poire , mais leur moins aimé est la banane .\n",
      "\n",
      "------------------------------------------------------------------\n",
      "\n",
      "Input\n",
      "  Word Ids:      [19, 97, 116, 203, 59, 144, 99, 219, 23, 116, 218, 30, 223, 103, 216, 0, 0]\n",
      "  English Words: new jersey is quiet during january , but it is sometimes rainy in fall .\n",
      "\n",
      "Prediction\n",
      "  Word Ids:      [103, 224, 328, 241, 38, 340, 315, 142, 14, 328, 253, 36, 265, 300, 12, 170, 1]\n",
      "  French Words: new jersey est calme en janvier , mais il est parfois pluvieux à l' automne .\n",
      "\n",
      "Target\n",
      "  Word Ids:      [103, 224, 328, 241, 38, 340, 315, 142, 14, 328, 253, 36, 265, 300, 12, 170, 1, 0, 0, 0]\n",
      "  French Words: new jersey est calme en janvier , mais il est parfois pluvieux à l' automne .\n",
      "\n",
      "------------------------------------------------------------------\n",
      "\n",
      "Input\n",
      "  Word Ids:      [29, 116, 182, 174, 59, 27, 99, 219, 23, 116, 173, 24, 223, 221, 216, 0, 0]\n",
      "  English Words: china is never dry during march , but it is usually mild in february .\n",
      "\n",
      "Prediction\n",
      "  Word Ids:      [52, 328, 222, 265, 121, 38, 46, 315, 142, 14, 328, 232, 8, 38, 210, 170, 1]\n",
      "  French Words: chine est jamais à sec en mars , mais il est généralement doux en février .\n",
      "\n",
      "Target\n",
      "  Word Ids:      [52, 328, 222, 265, 121, 173, 161, 141, 46, 315, 142, 14, 328, 232, 8, 38, 210, 170, 1, 0]\n",
      "  French Words: chine est jamais à sec au mois de mars , mais il est généralement doux en février .\n",
      "\n",
      "------------------------------------------------------------------\n",
      "\n",
      "Input\n",
      "  Word Ids:      [127, 116, 173, 61, 59, 51, 99, 219, 23, 116, 182, 30, 223, 144, 216, 0, 0]\n",
      "  English Words: california is usually busy during spring , but it is never rainy in january .\n",
      "\n",
      "Prediction\n",
      "  Word Ids:      [78, 328, 232, 296, 173, 302, 315, 142, 222, 120, 278, 38, 340, 170, 1, 0, 0]\n",
      "  French Words: californie est généralement occupé au printemps , mais jamais des pluies en janvier .\n",
      "\n",
      "Target\n",
      "  Word Ids:      [78, 328, 232, 296, 173, 302, 315, 142, 222, 120, 278, 38, 340, 170, 1, 0, 0, 0, 0, 0]\n",
      "  French Words: californie est généralement occupé au printemps , mais jamais des pluies en janvier .\n",
      "\n",
      "------------------------------------------------------------------\n",
      "\n",
      "Input\n",
      "  Word Ids:      [63, 70, 116, 57, 159, 136, 33, 99, 219, 63, 209, 116, 54, 159, 136, 216, 0]\n",
      "  English Words: the apple is my most loved fruit , but the grape is his most loved .\n",
      "\n",
      "Prediction\n",
      "  Word Ids:      [113, 75, 328, 191, 23, 191, 56, 305, 212, 315, 142, 191, 335, 328, 191, 56, 305]\n",
      "  French Words: la pomme est le fruit le plus aimé notre , mais le raisin est le plus aimé\n",
      "\n",
      "Target\n",
      "  Word Ids:      [113, 75, 328, 191, 23, 191, 56, 207, 276, 315, 142, 191, 335, 328, 191, 56, 305, 170, 1]\n",
      "  French Words: la pomme est le fruit le plus mon cher , mais le raisin est le plus aimé .\n",
      "\n",
      "------------------------------------------------------------------\n",
      "\n",
      "Input\n",
      "  Word Ids:      [143, 76, 138, 99, 45, 99, 154, 126, 216, 0, 0, 0, 0, 0, 0, 0, 0]\n",
      "  English Words: i dislike pears , grapefruit , and bananas .\n",
      "\n",
      "Prediction\n",
      "  Word Ids:      [162, 321, 82, 187, 163, 315, 187, 251, 157, 187, 57, 170, 1, 0, 0, 0, 0]\n",
      "  French Words: je n'aime pas les poires , les pamplemousses et les bananes .\n",
      "\n",
      "Target\n",
      "  Word Ids:      [162, 321, 82, 187, 163, 315, 187, 251, 157, 187, 57, 170, 1, 0, 0, 0, 0, 0, 0]\n",
      "  French Words: je n'aime pas les poires , les pamplemousses et les bananes .\n",
      "\n",
      "------------------------------------------------------------------\n",
      "\n",
      "Input\n",
      "  Word Ids:      [204, 90, 83, 99, 41, 99, 154, 145, 216, 0, 0, 0, 0, 0, 0, 0, 0]\n",
      "  English Words: he likes mangoes , grapes , and lemons .\n",
      "\n",
      "Prediction\n",
      "  Word Ids:      [14, 77, 187, 206, 315, 187, 81, 157, 187, 35, 170, 1, 0, 0, 0, 0, 0]\n",
      "  French Words: il aime les mangues , les raisins et les citrons .\n",
      "\n",
      "Target\n",
      "  Word Ids:      [14, 77, 187, 206, 315, 187, 81, 157, 187, 35, 170, 1, 0, 0, 0, 0, 0, 0, 0, 0, 0]\n",
      "  French Words: il aime les mangues , les raisins et les citrons .\n",
      "\n",
      "------------------------------------------------------------------\n",
      "\n",
      "Input\n",
      "  Word Ids:      [190, 116, 182, 184, 59, 20, 99, 219, 23, 116, 150, 223, 230, 216, 0, 0, 0]\n",
      "  English Words: france is never beautiful during may , but it is hot in august .\n",
      "\n",
      "Prediction\n",
      "  Word Ids:      [113, 165, 328, 222, 40, 173, 161, 141, 128, 315, 142, 14, 328, 244, 38, 80, 170]\n",
      "  French Words: la france est jamais belle au mois de mai , mais il est chaud en août .\n",
      "\n",
      "Target\n",
      "  Word Ids:      [113, 165, 328, 222, 40, 173, 161, 141, 128, 315, 142, 14, 328, 244, 38, 80, 170, 1, 0, 0]\n",
      "  French Words: la france est jamais belle au mois de mai , mais il est chaud en août .\n",
      "\n",
      "------------------------------------------------------------------\n",
      "\n"
     ]
    }
   ],
   "source": [
    "loaded_graph = tf.Graph()\n",
    "with tf.Session(graph=loaded_graph) as sess:\n",
    "    # Load saved model\n",
    "    loader = tf.train.import_meta_graph(load_path + '.meta')\n",
    "    loader.restore(sess, load_path)\n",
    "\n",
    "    input_data = loaded_graph.get_tensor_by_name('input:0')\n",
    "    logits = loaded_graph.get_tensor_by_name('predictions:0')\n",
    "    target_sequence_length = loaded_graph.get_tensor_by_name('target_sequence_length:0')\n",
    "    source_sequence_length = loaded_graph.get_tensor_by_name('source_sequence_length:0')\n",
    "    keep_prob = loaded_graph.get_tensor_by_name('keep_prob:0')\n",
    "    \n",
    "    for batch_i, (source_batch, target_batch, sources_lengths, targets_lengths) in enumerate(\n",
    "                util.get_batches(source_test, target_test, batch_size,\n",
    "                                source_vocab_to_int['<PAD>'],\n",
    "                                target_vocab_to_int['<PAD>'])):\n",
    "        \n",
    "        test_logits = sess.run(logits, {input_data: source_batch,\n",
    "                               target_sequence_length: sources_lengths,\n",
    "                               source_sequence_length: targets_lengths,\n",
    "                               keep_prob: 1.0})\n",
    "        \n",
    "        print('Input')\n",
    "        print('  Word Ids:      {}'.format([i for i in source_batch[0]]))\n",
    "        print('  English Words: {}'.format(\" \".join([source_int_to_vocab[i] for i in source_batch[0] \n",
    "                                           if i not in [0, 1]])))\n",
    "\n",
    "        print('\\nPrediction')\n",
    "        print('  Word Ids:      {}'.format([i for i in test_logits[0]]))\n",
    "        print('  French Words: {}'.format(\" \".join([target_int_to_vocab[i] for i in test_logits[0] \n",
    "                                                   if i not in [0, 1]])))\n",
    "        \n",
    "        print('\\nTarget')\n",
    "        print('  Word Ids:      {}'.format([i for i in target_batch[0]]))\n",
    "        print('  French Words: {}'.format(\" \".join([target_int_to_vocab[i] for i in target_batch[0]\n",
    "                                                  if i not in [0, 1]])))\n",
    "        print(\"\\n------------------------------------------------------------------\\n\")\n",
    "        \n",
    "        test_acc = util.get_bleu(target_batch, test_logits)\n",
    "        test_acc_list.append(test_acc)"
   ]
  },
  {
   "cell_type": "code",
   "execution_count": 23,
   "metadata": {},
   "outputs": [
    {
     "name": "stdout",
     "output_type": "stream",
     "text": [
      "The BLEU score for the test data is 0.797999510477571\n"
     ]
    }
   ],
   "source": [
    "print(\"The BLEU score for the test data is {}\".format(np.mean(test_acc_list)))"
   ]
  },
  {
   "cell_type": "code",
   "execution_count": null,
   "metadata": {
    "collapsed": true
   },
   "outputs": [],
   "source": []
  }
 ],
 "metadata": {
  "anaconda-cloud": {},
  "kernelspec": {
   "display_name": "tensorflow-gpu",
   "language": "python",
   "name": "tensorflow-gpu"
  },
  "language_info": {
   "codemirror_mode": {
    "name": "ipython",
    "version": 3
   },
   "file_extension": ".py",
   "mimetype": "text/x-python",
   "name": "python",
   "nbconvert_exporter": "python",
   "pygments_lexer": "ipython3",
   "version": "3.5.4"
  }
 },
 "nbformat": 4,
 "nbformat_minor": 1
}
